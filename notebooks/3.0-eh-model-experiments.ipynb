{
 "cells": [
  {
   "cell_type": "markdown",
   "metadata": {},
   "source": [
    "We are predicting who will win a bout while also maximizing the possible ROI using our betting strategy. Thus we have our variables as follows\n",
    "\n",
    "- $ y $ : the true value\n",
    "- $ \\hat{y} $ : the predicted value\n",
    "- $ b $ : bookie odds for our chosen fighter. (Ex. Win $20 on $10 bet = 2:1 = 2)\n",
    "\n"
   ]
  },
  {
   "cell_type": "markdown",
   "metadata": {},
   "source": [
    "Loss functions for maximizing the likelihood are available with different paradigms\n",
    "\n",
    "- BCE: $ y\\log(\\hat{y}) + (1-y)\\log(1-\\hat{y}) $\n",
    "- MSE: $ (\\hat{y} - y)^2  $\n",
    "\n",
    "- Decorrelator BCE: $ c(b(\\log(\\hat{y}) + (1-b)\\log(1-\\hat{y}))) $\n",
    "- Decorrelator MSE: $ c(\\hat{y} - b)^2 $\n",
    "\n",
    "Full Loss Function using BCE plus BCE decorrelator to minimize\n",
    "\n",
    "- $ L = -(y\\log(\\hat{y}) + (1-y)\\log(1-\\hat{y}) - c(b(\\log \\hat{y} + (1-b)\\log(1-\\hat{y}))) $"
   ]
  }
 ],
 "metadata": {
  "language_info": {
   "name": "python"
  },
  "orig_nbformat": 4
 },
 "nbformat": 4,
 "nbformat_minor": 2
}
