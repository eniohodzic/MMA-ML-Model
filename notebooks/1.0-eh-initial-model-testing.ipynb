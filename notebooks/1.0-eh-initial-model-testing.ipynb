{
 "cells": [
  {
   "cell_type": "markdown",
   "metadata": {},
   "source": [
    "### Importing Packages"
   ]
  },
  {
   "cell_type": "code",
   "execution_count": 1,
   "metadata": {},
   "outputs": [],
   "source": [
    "import sys\n",
    "sys.path.insert(0, 'C:/Users/enioh/Documents/Github/MMA-ML-Model')\n",
    "\n",
    "from os.path import abspath, dirname, join\n",
    "from src.models.train_test import train_test_split, X_y_split\n",
    "\n",
    "import pandas as pd\n",
    "import numpy as np"
   ]
  },
  {
   "cell_type": "markdown",
   "metadata": {},
   "source": [
    "### Importing Fully Processed Data"
   ]
  },
  {
   "cell_type": "code",
   "execution_count": 2,
   "metadata": {},
   "outputs": [],
   "source": [
    "df = pd.read_csv(abspath(join(dirname(abspath('')), 'data/', 'processed/', 'extracted_stats.csv')))"
   ]
  },
  {
   "cell_type": "markdown",
   "metadata": {},
   "source": [
    "### Splitting Dataset into training and test sets"
   ]
  },
  {
   "cell_type": "markdown",
   "metadata": {},
   "source": [
    "## MODEL 1: XGBoost "
   ]
  },
  {
   "cell_type": "code",
   "execution_count": 3,
   "metadata": {},
   "outputs": [
    {
     "name": "stderr",
     "output_type": "stream",
     "text": [
      "C:\\Users/enioh/Documents/Github/MMA-ML-Model\\src\\models\\train_model.py:17: UserWarning: This pattern is interpreted as a regular expression, and has match groups. To actually get the groups, use str.extract.\n",
      "  post_comp_cols = df.loc[:, ~df.columns.str.contains('precomp_([a-zA-Z_]+)_vs_opp', regex=True)].columns.to_list() # All columns that do not have the precomp_ id or vs_opp id\n"
     ]
    },
    {
     "name": "stdout",
     "output_type": "stream",
     "text": [
      "Model Training Accuracy: 0.7818480043739748\n",
      "Model Test Accuracy: 0.5840978593272171\n"
     ]
    }
   ],
   "source": [
    "from src.models.XGBoost_Model import make_model\n",
    "from src.models.train_model import train_model\n",
    "from sklearn.feature_selection import SelectFromModel\n",
    "from sklearn.metrics import accuracy_score\n",
    "\n",
    "clf = make_model()\n",
    "clf, split_data = train_model(clf, df)\n",
    "\n",
    "X_train, y_train, X_test, y_test = split_data"
   ]
  },
  {
   "cell_type": "code",
   "execution_count": 4,
   "metadata": {},
   "outputs": [
    {
     "data": {
      "text/plain": [
       "(7316, 1472)"
      ]
     },
     "execution_count": 4,
     "metadata": {},
     "output_type": "execute_result"
    }
   ],
   "source": [
    "X_train.shape"
   ]
  },
  {
   "cell_type": "markdown",
   "metadata": {},
   "source": [
    "### Not that good, lets optimize using Optuna"
   ]
  },
  {
   "cell_type": "code",
   "execution_count": null,
   "metadata": {},
   "outputs": [],
   "source": [
    "from src.models.Optuna import OptunaTuning\n",
    "\n",
    "tuner = OptunaTuning(X_test, y_test, X_train, y_train)\n",
    "tuner.run()"
   ]
  },
  {
   "cell_type": "markdown",
   "metadata": {},
   "source": [
    "### Optimal Model"
   ]
  },
  {
   "cell_type": "code",
   "execution_count": 13,
   "metadata": {},
   "outputs": [
    {
     "name": "stdout",
     "output_type": "stream",
     "text": [
      "0.6880009292600766\n",
      "0.5779816513761468\n"
     ]
    }
   ],
   "source": [
    "import xgboost as xgb\n",
    "\n",
    "bst = xgb.XGBClassifier(reg_lambda = 0.21262699261144707, \n",
    "                        alpha = 0.002190735457731732, \n",
    "                        tree_method = 'gpu_hist',\n",
    "                        objective = 'binary:logistic',\n",
    "                        verbosity = 0,\n",
    "                        n_jobs = -1, \n",
    "                        learning_rate = 0.01830371431723197,\n",
    "                        min_child_weight = 12, \n",
    "                        max_depth = 6, \n",
    "                        max_delta_step = 5, \n",
    "                        subsample = 0.12516270393991097,\n",
    "                        colsample_bytree = 0.39799515236683536,\n",
    "                        gamma = 0.225275077908943, \n",
    "                        n_estimators = 315,\n",
    "                        eta = 0.11452245768637671)\n",
    "\n",
    "bst.fit(X_train, y_train)\n",
    "y_pred_train = bst.predict(X_train)\n",
    "y_pred_test = bst.predict(X_test)\n",
    "train_score = accuracy_score(y_train, y_pred_train)\n",
    "test_score = accuracy_score(y_test, y_pred_test)\n",
    "print(train_score)\n",
    "print(test_score)"
   ]
  }
 ],
 "metadata": {
  "kernelspec": {
   "display_name": "MMA",
   "language": "python",
   "name": "python3"
  },
  "language_info": {
   "codemirror_mode": {
    "name": "ipython",
    "version": 3
   },
   "file_extension": ".py",
   "mimetype": "text/x-python",
   "name": "python",
   "nbconvert_exporter": "python",
   "pygments_lexer": "ipython3",
   "version": "3.10.9"
  },
  "orig_nbformat": 4
 },
 "nbformat": 4,
 "nbformat_minor": 2
}
