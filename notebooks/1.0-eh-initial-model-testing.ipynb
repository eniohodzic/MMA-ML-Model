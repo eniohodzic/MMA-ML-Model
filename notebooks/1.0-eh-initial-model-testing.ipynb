{
 "cells": [
  {
   "cell_type": "markdown",
   "metadata": {},
   "source": [
    "### Importing Packages"
   ]
  },
  {
   "cell_type": "code",
   "execution_count": 1,
   "metadata": {},
   "outputs": [],
   "source": [
    "import sys\n",
    "sys.path.insert(0, 'C:/Users/enioh/Documents/Github/MMA')\n",
    "\n",
    "from os.path import abspath, dirname, join\n",
    "from src.models.train_test import train_test_split, X_y_split\n",
    "\n",
    "import pandas as pd\n",
    "import numpy as np"
   ]
  },
  {
   "cell_type": "markdown",
   "metadata": {},
   "source": [
    "### Importing Fully Processed Data"
   ]
  },
  {
   "cell_type": "code",
   "execution_count": 2,
   "metadata": {},
   "outputs": [],
   "source": [
    "df = pd.read_csv(abspath(join(dirname(abspath('')), 'data/', 'processed/', 'extracted_stats.csv')))"
   ]
  },
  {
   "cell_type": "code",
   "execution_count": 3,
   "metadata": {},
   "outputs": [],
   "source": [
    "df['date'] = pd.to_datetime(df['date']) # make sure logic can handle datetime for time series data \n",
    "df.drop(df.loc[df['result'] == 'D'].index, inplace=True) # Drop ties first \n",
    "drop_cols = df.loc[:, :'referee'].columns # columns that will be dropped as features (strings, formats, etc.)\n",
    "\n",
    "drop_cols = drop_cols.insert(0, df.columns[df.isna().all()].to_list()) # drop columns that contain all nans\n",
    "\n",
    "post_comp_cols = df.loc[:, ~df.columns.str.contains('precomp_')].columns.to_list() # All columns that do not have the precomp_ id\n",
    "post_comp_cols.remove('height') # These are known before the fight but do not have the identifier anyway\n",
    "post_comp_cols.remove('reach')\n",
    "post_comp_cols.remove('age')\n",
    "\n",
    "drop_cols = drop_cols.insert(0, post_comp_cols)"
   ]
  },
  {
   "cell_type": "markdown",
   "metadata": {},
   "source": [
    "### Splitting Dataset into training and test sets"
   ]
  },
  {
   "cell_type": "code",
   "execution_count": 5,
   "metadata": {},
   "outputs": [],
   "source": [
    "train_df, test_df = train_test_split(df)\n",
    "X_train, y_train, X_test, y_test = X_y_split(train_df.copy(), test_df.copy(), 'result', drop_cols)"
   ]
  },
  {
   "cell_type": "code",
   "execution_count": 15,
   "metadata": {},
   "outputs": [
    {
     "data": {
      "text/plain": [
       "height                                         int64\n",
       "reach                                          int64\n",
       "age                                          float64\n",
       "precomp_height_prior                         float64\n",
       "precomp_height_avg                           float64\n",
       "                                              ...   \n",
       "precomp_elo_differential_var_vs_opp          float64\n",
       "precomp_elo_differential_windowvar_vs_opp    float64\n",
       "precomp_elo_differential_peak_vs_opp         float64\n",
       "precomp_elo_differential_low_vs_opp          float64\n",
       "precomp_elo_differential_delta_vs_opp        float64\n",
       "Length: 3415, dtype: object"
      ]
     },
     "execution_count": 15,
     "metadata": {},
     "output_type": "execute_result"
    }
   ],
   "source": [
    "X_test.dtypes"
   ]
  },
  {
   "cell_type": "code",
   "execution_count": 7,
   "metadata": {},
   "outputs": [],
   "source": [
    "# Converting W to 1 and L to 0 and to numpy array\n",
    "\n",
    "y_train[y_train == 'W'] = 1\n",
    "y_train[y_train != 1] = 0\n",
    "\n",
    "y_test[y_test == 'W'] = 1\n",
    "y_test[y_test != 1] = 0\n",
    "\n",
    "y_train = y_train.to_numpy(dtype=int)\n",
    "y_test = y_test.to_numpy(dtype=int)"
   ]
  },
  {
   "cell_type": "markdown",
   "metadata": {},
   "source": [
    "## MODEL 1: XGBoost "
   ]
  },
  {
   "cell_type": "code",
   "execution_count": 8,
   "metadata": {},
   "outputs": [],
   "source": [
    "import xgboost as xgb\n",
    "\n",
    "bst = xgb.XGBClassifier(n_estimators=10,\n",
    "                        max_depth=3, \n",
    "                        learning_rate=1, \n",
    "                        objective='binary:logistic')"
   ]
  },
  {
   "cell_type": "code",
   "execution_count": 9,
   "metadata": {},
   "outputs": [],
   "source": [
    "bst.fit(X_train, y_train)\n",
    "y_pred_train = bst.predict(X_train)\n",
    "y_pred_test = bst.predict(X_test)"
   ]
  },
  {
   "cell_type": "markdown",
   "metadata": {},
   "source": [
    "### Accuracy Metrics"
   ]
  },
  {
   "cell_type": "code",
   "execution_count": 10,
   "metadata": {},
   "outputs": [],
   "source": [
    "from sklearn.metrics import accuracy_score\n",
    "\n",
    "train_score = accuracy_score(y_train, y_pred_train)\n",
    "test_score = accuracy_score(y_test, y_pred_test)"
   ]
  },
  {
   "cell_type": "code",
   "execution_count": 11,
   "metadata": {},
   "outputs": [
    {
     "name": "stdout",
     "output_type": "stream",
     "text": [
      "0.6834841964683187\n",
      "0.5529243937232525\n"
     ]
    }
   ],
   "source": [
    "print(train_score)\n",
    "print(test_score)"
   ]
  },
  {
   "cell_type": "markdown",
   "metadata": {},
   "source": [
    "### Not that good, lets optimize using Optuna"
   ]
  },
  {
   "cell_type": "code",
   "execution_count": null,
   "metadata": {},
   "outputs": [],
   "source": [
    "from src.models.Optuna import OptunaTuning\n",
    "\n",
    "tuner = OptunaTuning(X_test, y_test, X_train, y_train)\n",
    "tuner.run()"
   ]
  },
  {
   "cell_type": "markdown",
   "metadata": {},
   "source": [
    "### Optimal Model"
   ]
  },
  {
   "cell_type": "code",
   "execution_count": 12,
   "metadata": {},
   "outputs": [
    {
     "name": "stdout",
     "output_type": "stream",
     "text": [
      "0.671316219023594\n",
      "0.585734664764622\n"
     ]
    }
   ],
   "source": [
    "bst = xgb.XGBClassifier(reg_lambda = 0.21262699261144707, \n",
    "                        alpha = 9.603744709436778, \n",
    "                        tree_method = 'gpu_hist',\n",
    "                        objective = 'binary:logistic',\n",
    "                        verbosity = 0,\n",
    "                        n_jobs = -1, \n",
    "                        learning_rate = 0.01830371431723197,\n",
    "                        min_child_weight = 12, \n",
    "                        max_depth = 6, \n",
    "                        max_delta_step = 5, \n",
    "                        subsample = 0.12516270393991097,\n",
    "                        colsample_bytree = 0.39799515236683536,\n",
    "                        gamma = 0.225275077908943, \n",
    "                        n_estimators = 315,\n",
    "                        eta = 0.11452245768637671)\n",
    "\n",
    "bst.fit(X_train, y_train)\n",
    "y_pred_train = bst.predict(X_train)\n",
    "y_pred_test = bst.predict(X_test)\n",
    "train_score = accuracy_score(y_train, y_pred_train)\n",
    "test_score = accuracy_score(y_test, y_pred_test)\n",
    "print(train_score)\n",
    "print(test_score)"
   ]
  }
 ],
 "metadata": {
  "kernelspec": {
   "display_name": "MMA",
   "language": "python",
   "name": "python3"
  },
  "language_info": {
   "codemirror_mode": {
    "name": "ipython",
    "version": 3
   },
   "file_extension": ".py",
   "mimetype": "text/x-python",
   "name": "python",
   "nbconvert_exporter": "python",
   "pygments_lexer": "ipython3",
   "version": "3.10.9"
  },
  "orig_nbformat": 4
 },
 "nbformat": 4,
 "nbformat_minor": 2
}
