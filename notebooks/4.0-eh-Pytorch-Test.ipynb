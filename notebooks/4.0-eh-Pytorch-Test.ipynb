{
 "cells": [
  {
   "cell_type": "code",
   "execution_count": null,
   "metadata": {},
   "outputs": [],
   "source": [
    "# Hyperparameters\n",
    "input_size = 1083\n",
    "hidden1_size = 500\n",
    "hidden2_size = 100\n",
    "hidden3_size = 25\n",
    "output_size = 1\n",
    "batch_size = 50\n",
    "lr = 1e-3\n",
    "epochs = 400\n",
    "\n",
    "class MMANet(nn.Module):\n",
    "    def __init__(self, input_size, hidden1_size, hidden2_size, hidden3_size, output_size):\n",
    "        super(MMANet, self).__init__()\n",
    "        self.l1 = nn.Linear(input_size, hidden1_size)\n",
    "        self.lrelu = nn.LeakyReLU(0.1)\n",
    "        self.l2 = nn.Linear(hidden1_size, hidden2_size)\n",
    "        self.l3 = nn.Linear(hidden2_size, hidden3_size)\n",
    "        self.drop1 = nn.Dropout(p=0.2)\n",
    "        self.l4 = nn.Linear(hidden3_size, output_size)\n",
    "\n",
    "    def forward(self, x):\n",
    "        out = self.l1(x)\n",
    "        out = self.lrelu(out)\n",
    "        out = self.l2(out)\n",
    "        out = self.lrelu(out)\n",
    "        out = self.l3(out)\n",
    "        out = self.lrelu(out)\n",
    "        out = self.drop1(out)\n",
    "        out = self.l4(out)\n",
    "        return out\n",
    "    \n",
    "criterion = nn.BCEWithLogitsLoss()\n",
    "optimizer = torch.optim.SGD(model.parameters(), lr=lr)\n",
    "\n",
    "# Best model so far, 62% peak val accuracy prior to hyperparameter tuning "
   ]
  },
  {
   "cell_type": "code",
   "execution_count": null,
   "metadata": {},
   "outputs": [],
   "source": []
  }
 ],
 "metadata": {
  "language_info": {
   "name": "python"
  },
  "orig_nbformat": 4
 },
 "nbformat": 4,
 "nbformat_minor": 2
}
