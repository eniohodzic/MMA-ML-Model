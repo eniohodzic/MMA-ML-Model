{
 "cells": [
  {
   "cell_type": "markdown",
   "metadata": {},
   "source": [
    "### Initial Imports"
   ]
  },
  {
   "cell_type": "code",
   "execution_count": 1,
   "metadata": {},
   "outputs": [],
   "source": [
    "import sys\n",
    "sys.path.insert(0, 'C:/Users/enioh/Documents/Github/MMA-ML-Model')\n",
    "\n",
    "import pandas as pd \n",
    "import numpy as np \n",
    "\n",
    "from os.path import abspath, dirname, join"
   ]
  },
  {
   "cell_type": "markdown",
   "metadata": {},
   "source": [
    "### Dataset and Model Loading"
   ]
  },
  {
   "cell_type": "code",
   "execution_count": 2,
   "metadata": {},
   "outputs": [],
   "source": [
    "df = pd.read_csv(abspath(join(dirname(abspath('')), 'data/', 'processed/', 'extracted_stats.csv')))"
   ]
  },
  {
   "cell_type": "code",
   "execution_count": 4,
   "metadata": {},
   "outputs": [
    {
     "name": "stderr",
     "output_type": "stream",
     "text": [
      "C:\\Users/enioh/Documents/Github/MMA-ML-Model\\src\\models\\train_model.py:17: UserWarning: This pattern is interpreted as a regular expression, and has match groups. To actually get the groups, use str.extract.\n",
      "  post_comp_cols = df.loc[:, ~df.columns.str.contains('precomp_([a-zA-Z_]+)_vs_opp', regex=True)].columns.to_list() # All columns that do not have the precomp_ id or vs_opp id\n"
     ]
    },
    {
     "name": "stdout",
     "output_type": "stream",
     "text": [
      "Model Training Accuracy: 0.727378981201909\n",
      "Model Test Accuracy: 0.5831710167510713\n"
     ]
    }
   ],
   "source": [
    "from src.models.XGBoost_Model import make_model\n",
    "from src.models.train_model import train_model\n",
    "from sklearn.feature_selection import SelectFromModel\n",
    "from sklearn.metrics import accuracy_score\n",
    "\n",
    "clf = make_model()\n",
    "clf, split_data = train_model(clf, df)\n",
    "\n",
    "X_train, y_train, X_test, y_test = split_data"
   ]
  },
  {
   "cell_type": "markdown",
   "metadata": {},
   "source": [
    "### Thresholding Selection"
   ]
  },
  {
   "cell_type": "code",
   "execution_count": 9,
   "metadata": {},
   "outputs": [],
   "source": [
    "def threshold_selector(clf, X_train, y_train, X_test, y_test):\n",
    "\n",
    "    max_features = [x for x in range(100, 300, 1)]\n",
    "    avgs = []\n",
    "\n",
    "    for f in max_features:\n",
    "        loopavg = []\n",
    "        for count in range(0,1):\n",
    "            selection = SelectFromModel(estimator=clf, max_features=f, prefit=True)\n",
    "            select_X_train = selection.transform(X_train)\n",
    "\n",
    "            model = make_model()\n",
    "            model.fit(select_X_train, y_train)\n",
    "            select_X_test = selection.transform(X_test)\n",
    "            y_pred = model.predict(select_X_test)\n",
    "            accuracy = accuracy_score(y_test, y_pred)\n",
    "\n",
    "            msg = f\"Thresh={f}, n={select_X_train.shape[1]}, Accuracy: {accuracy}\"\n",
    "            print(msg)\n",
    "            loopavg.append(accuracy)\n",
    "        avgs.append((f, np.mean(loopavg)))\n",
    "    \n",
    "    for avg in avgs:\n",
    "        print(avg)"
   ]
  },
  {
   "cell_type": "code",
   "execution_count": 6,
   "metadata": {},
   "outputs": [],
   "source": [
    "import warnings\n",
    "warnings.filterwarnings(\"ignore\")"
   ]
  },
  {
   "cell_type": "code",
   "execution_count": null,
   "metadata": {},
   "outputs": [],
   "source": [
    "threshold_selector(clf, X_train, y_train, X_test, y_test)"
   ]
  },
  {
   "cell_type": "markdown",
   "metadata": {},
   "source": [
    "### Recursive Feature Elimination"
   ]
  },
  {
   "cell_type": "code",
   "execution_count": 41,
   "metadata": {},
   "outputs": [
    {
     "data": {
      "text/html": [
       "<style>#sk-container-id-3 {color: black;background-color: white;}#sk-container-id-3 pre{padding: 0;}#sk-container-id-3 div.sk-toggleable {background-color: white;}#sk-container-id-3 label.sk-toggleable__label {cursor: pointer;display: block;width: 100%;margin-bottom: 0;padding: 0.3em;box-sizing: border-box;text-align: center;}#sk-container-id-3 label.sk-toggleable__label-arrow:before {content: \"▸\";float: left;margin-right: 0.25em;color: #696969;}#sk-container-id-3 label.sk-toggleable__label-arrow:hover:before {color: black;}#sk-container-id-3 div.sk-estimator:hover label.sk-toggleable__label-arrow:before {color: black;}#sk-container-id-3 div.sk-toggleable__content {max-height: 0;max-width: 0;overflow: hidden;text-align: left;background-color: #f0f8ff;}#sk-container-id-3 div.sk-toggleable__content pre {margin: 0.2em;color: black;border-radius: 0.25em;background-color: #f0f8ff;}#sk-container-id-3 input.sk-toggleable__control:checked~div.sk-toggleable__content {max-height: 200px;max-width: 100%;overflow: auto;}#sk-container-id-3 input.sk-toggleable__control:checked~label.sk-toggleable__label-arrow:before {content: \"▾\";}#sk-container-id-3 div.sk-estimator input.sk-toggleable__control:checked~label.sk-toggleable__label {background-color: #d4ebff;}#sk-container-id-3 div.sk-label input.sk-toggleable__control:checked~label.sk-toggleable__label {background-color: #d4ebff;}#sk-container-id-3 input.sk-hidden--visually {border: 0;clip: rect(1px 1px 1px 1px);clip: rect(1px, 1px, 1px, 1px);height: 1px;margin: -1px;overflow: hidden;padding: 0;position: absolute;width: 1px;}#sk-container-id-3 div.sk-estimator {font-family: monospace;background-color: #f0f8ff;border: 1px dotted black;border-radius: 0.25em;box-sizing: border-box;margin-bottom: 0.5em;}#sk-container-id-3 div.sk-estimator:hover {background-color: #d4ebff;}#sk-container-id-3 div.sk-parallel-item::after {content: \"\";width: 100%;border-bottom: 1px solid gray;flex-grow: 1;}#sk-container-id-3 div.sk-label:hover label.sk-toggleable__label {background-color: #d4ebff;}#sk-container-id-3 div.sk-serial::before {content: \"\";position: absolute;border-left: 1px solid gray;box-sizing: border-box;top: 0;bottom: 0;left: 50%;z-index: 0;}#sk-container-id-3 div.sk-serial {display: flex;flex-direction: column;align-items: center;background-color: white;padding-right: 0.2em;padding-left: 0.2em;position: relative;}#sk-container-id-3 div.sk-item {position: relative;z-index: 1;}#sk-container-id-3 div.sk-parallel {display: flex;align-items: stretch;justify-content: center;background-color: white;position: relative;}#sk-container-id-3 div.sk-item::before, #sk-container-id-3 div.sk-parallel-item::before {content: \"\";position: absolute;border-left: 1px solid gray;box-sizing: border-box;top: 0;bottom: 0;left: 50%;z-index: -1;}#sk-container-id-3 div.sk-parallel-item {display: flex;flex-direction: column;z-index: 1;position: relative;background-color: white;}#sk-container-id-3 div.sk-parallel-item:first-child::after {align-self: flex-end;width: 50%;}#sk-container-id-3 div.sk-parallel-item:last-child::after {align-self: flex-start;width: 50%;}#sk-container-id-3 div.sk-parallel-item:only-child::after {width: 0;}#sk-container-id-3 div.sk-dashed-wrapped {border: 1px dashed gray;margin: 0 0.4em 0.5em 0.4em;box-sizing: border-box;padding-bottom: 0.4em;background-color: white;}#sk-container-id-3 div.sk-label label {font-family: monospace;font-weight: bold;display: inline-block;line-height: 1.2em;}#sk-container-id-3 div.sk-label-container {text-align: center;}#sk-container-id-3 div.sk-container {/* jupyter's `normalize.less` sets `[hidden] { display: none; }` but bootstrap.min.css set `[hidden] { display: none !important; }` so we also need the `!important` here to be able to override the default hidden behavior on the sphinx rendered scikit-learn.org. See: https://github.com/scikit-learn/scikit-learn/issues/21755 */display: inline-block !important;position: relative;}#sk-container-id-3 div.sk-text-repr-fallback {display: none;}</style><div id=\"sk-container-id-3\" class=\"sk-top-container\"><div class=\"sk-text-repr-fallback\"><pre>RFE(estimator=XGBClassifier(alpha=1, base_score=None, booster=None,\n",
       "                            callbacks=None, colsample_bylevel=None,\n",
       "                            colsample_bynode=None, colsample_bytree=0.1,\n",
       "                            early_stopping_rounds=None,\n",
       "                            enable_categorical=False, eval_metric=None,\n",
       "                            feature_types=None, gamma=0.05, gpu_id=None,\n",
       "                            grow_policy=None, importance_type=None,\n",
       "                            interaction_constraints=None, learning_rate=0.02,\n",
       "                            max_bin=None, max_cat_threshold=None,\n",
       "                            max_cat_to_onehot=None, max_delta_step=0,\n",
       "                            max_depth=3, max_leaves=None, min_child_weight=16,\n",
       "                            missing=nan, monotone_constraints=None,\n",
       "                            n_estimators=1000, n_jobs=-1,\n",
       "                            num_parallel_tree=None, predictor=None, ...),\n",
       "    n_features_to_select=25, step=5)</pre><b>In a Jupyter environment, please rerun this cell to show the HTML representation or trust the notebook. <br />On GitHub, the HTML representation is unable to render, please try loading this page with nbviewer.org.</b></div><div class=\"sk-container\" hidden><div class=\"sk-item sk-dashed-wrapped\"><div class=\"sk-label-container\"><div class=\"sk-label sk-toggleable\"><input class=\"sk-toggleable__control sk-hidden--visually\" id=\"sk-estimator-id-7\" type=\"checkbox\" ><label for=\"sk-estimator-id-7\" class=\"sk-toggleable__label sk-toggleable__label-arrow\">RFE</label><div class=\"sk-toggleable__content\"><pre>RFE(estimator=XGBClassifier(alpha=1, base_score=None, booster=None,\n",
       "                            callbacks=None, colsample_bylevel=None,\n",
       "                            colsample_bynode=None, colsample_bytree=0.1,\n",
       "                            early_stopping_rounds=None,\n",
       "                            enable_categorical=False, eval_metric=None,\n",
       "                            feature_types=None, gamma=0.05, gpu_id=None,\n",
       "                            grow_policy=None, importance_type=None,\n",
       "                            interaction_constraints=None, learning_rate=0.02,\n",
       "                            max_bin=None, max_cat_threshold=None,\n",
       "                            max_cat_to_onehot=None, max_delta_step=0,\n",
       "                            max_depth=3, max_leaves=None, min_child_weight=16,\n",
       "                            missing=nan, monotone_constraints=None,\n",
       "                            n_estimators=1000, n_jobs=-1,\n",
       "                            num_parallel_tree=None, predictor=None, ...),\n",
       "    n_features_to_select=25, step=5)</pre></div></div></div><div class=\"sk-parallel\"><div class=\"sk-parallel-item\"><div class=\"sk-item\"><div class=\"sk-label-container\"><div class=\"sk-label sk-toggleable\"><input class=\"sk-toggleable__control sk-hidden--visually\" id=\"sk-estimator-id-8\" type=\"checkbox\" ><label for=\"sk-estimator-id-8\" class=\"sk-toggleable__label sk-toggleable__label-arrow\">estimator: XGBClassifier</label><div class=\"sk-toggleable__content\"><pre>XGBClassifier(alpha=1, base_score=None, booster=None, callbacks=None,\n",
       "              colsample_bylevel=None, colsample_bynode=None,\n",
       "              colsample_bytree=0.1, early_stopping_rounds=None,\n",
       "              enable_categorical=False, eval_metric=None, feature_types=None,\n",
       "              gamma=0.05, gpu_id=None, grow_policy=None, importance_type=None,\n",
       "              interaction_constraints=None, learning_rate=0.02, max_bin=None,\n",
       "              max_cat_threshold=None, max_cat_to_onehot=None, max_delta_step=0,\n",
       "              max_depth=3, max_leaves=None, min_child_weight=16, missing=nan,\n",
       "              monotone_constraints=None, n_estimators=1000, n_jobs=-1,\n",
       "              num_parallel_tree=None, predictor=None, ...)</pre></div></div></div><div class=\"sk-serial\"><div class=\"sk-item\"><div class=\"sk-estimator sk-toggleable\"><input class=\"sk-toggleable__control sk-hidden--visually\" id=\"sk-estimator-id-9\" type=\"checkbox\" ><label for=\"sk-estimator-id-9\" class=\"sk-toggleable__label sk-toggleable__label-arrow\">XGBClassifier</label><div class=\"sk-toggleable__content\"><pre>XGBClassifier(alpha=1, base_score=None, booster=None, callbacks=None,\n",
       "              colsample_bylevel=None, colsample_bynode=None,\n",
       "              colsample_bytree=0.1, early_stopping_rounds=None,\n",
       "              enable_categorical=False, eval_metric=None, feature_types=None,\n",
       "              gamma=0.05, gpu_id=None, grow_policy=None, importance_type=None,\n",
       "              interaction_constraints=None, learning_rate=0.02, max_bin=None,\n",
       "              max_cat_threshold=None, max_cat_to_onehot=None, max_delta_step=0,\n",
       "              max_depth=3, max_leaves=None, min_child_weight=16, missing=nan,\n",
       "              monotone_constraints=None, n_estimators=1000, n_jobs=-1,\n",
       "              num_parallel_tree=None, predictor=None, ...)</pre></div></div></div></div></div></div></div></div></div></div>"
      ],
      "text/plain": [
       "RFE(estimator=XGBClassifier(alpha=1, base_score=None, booster=None,\n",
       "                            callbacks=None, colsample_bylevel=None,\n",
       "                            colsample_bynode=None, colsample_bytree=0.1,\n",
       "                            early_stopping_rounds=None,\n",
       "                            enable_categorical=False, eval_metric=None,\n",
       "                            feature_types=None, gamma=0.05, gpu_id=None,\n",
       "                            grow_policy=None, importance_type=None,\n",
       "                            interaction_constraints=None, learning_rate=0.02,\n",
       "                            max_bin=None, max_cat_threshold=None,\n",
       "                            max_cat_to_onehot=None, max_delta_step=0,\n",
       "                            max_depth=3, max_leaves=None, min_child_weight=16,\n",
       "                            missing=nan, monotone_constraints=None,\n",
       "                            n_estimators=1000, n_jobs=-1,\n",
       "                            num_parallel_tree=None, predictor=None, ...),\n",
       "    n_features_to_select=25, step=5)"
      ]
     },
     "execution_count": 41,
     "metadata": {},
     "output_type": "execute_result"
    }
   ],
   "source": [
    "from sklearn.feature_selection import RFE\n",
    "\n",
    "clf = make_model()\n",
    "selector = RFE(clf, n_features_to_select=25, step=5)\n",
    "selector.fit(X_train, y_train)"
   ]
  }
 ],
 "metadata": {
  "kernelspec": {
   "display_name": "MMA",
   "language": "python",
   "name": "python3"
  },
  "language_info": {
   "codemirror_mode": {
    "name": "ipython",
    "version": 3
   },
   "file_extension": ".py",
   "mimetype": "text/x-python",
   "name": "python",
   "nbconvert_exporter": "python",
   "pygments_lexer": "ipython3",
   "version": "3.10.9"
  },
  "orig_nbformat": 4
 },
 "nbformat": 4,
 "nbformat_minor": 2
}
